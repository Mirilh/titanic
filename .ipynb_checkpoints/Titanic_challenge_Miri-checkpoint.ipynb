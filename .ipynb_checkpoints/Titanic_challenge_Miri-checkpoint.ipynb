{
 "cells": [
  {
   "cell_type": "markdown",
   "id": "2f8576e0",
   "metadata": {},
   "source": [
    "# Titanic Dataset \n",
    "# Alumno: Miriam Lopez Hernandez\n",
    "## Fecha: 21/04\n",
    "## Introducción al Big Data\n"
   ]
  },
  {
   "cell_type": "markdown",
   "id": "f2629baf",
   "metadata": {},
   "source": [
    "In this challenge, we ask you to build a predictive model that answers the question: “what sorts of people were more likely to survive?” using passenger data (ie name, age, gender, socio-economic class, etc):\n",
    "\n",
    "    - Goal:\n",
    "\n",
    "    It is your job to predict if a passenger survived the sinking of the Titanic or not.\n",
    "    For each in the test set, you must predict a 0 or 1 value for the variable.\n",
    "    \n",
    "    - Metric:\n",
    "\n",
    "    Your score is the percentage of passengers you correctly predict. This is known as accuracy."
   ]
  },
  {
   "cell_type": "code",
   "execution_count": 80,
   "id": "e2a7ad96",
   "metadata": {},
   "outputs": [],
   "source": [
    "import pandas as pd\n"
   ]
  },
  {
   "cell_type": "code",
   "execution_count": 81,
   "id": "3d43a348",
   "metadata": {},
   "outputs": [],
   "source": [
    "df = pd.read_csv('train.csv')\n",
    "df.head()"
   ]
  },
  {
   "cell_type": "code",
   "execution_count": 82,
   "id": "81dda5a7",
   "metadata": {},
   "outputs": [],
   "source": [
    "# Empezaremos investigando los datos del Dataset, datos nullos \n",
    "df.isnull().sum()"
   ]
  },
  {
   "cell_type": "code",
   "execution_count": 83,
   "id": "ce286cff",
   "metadata": {},
   "outputs": [],
   "source": [
    "# Nos flatan 687 datos de cabina, son demasiados así que directamente no se tenedrá en cuenta como una variable de predicción.\n",
    "df.Cabin.isnull().sum(), len(df)"
   ]
  },
  {
   "cell_type": "code",
   "execution_count": 84,
   "id": "49dd8bae",
   "metadata": {},
   "outputs": [],
   "source": [
    "# Como vemos los datos nulos podrían distorsionar nuestros resultados por lo que hay que tratar de \n",
    "# rellenarlos de una manera que no varíe demasiado el resultado. En el caso de la edad se podria usar la media o la median\n",
    "# La mediana me dará un error muestrar menor - mejor criterio. \n",
    "\n",
    "df.Age = df.Age.fillna(df.Age.median())\n",
    "df.Age.isnull().sum()"
   ]
  },
  {
   "cell_type": "code",
   "execution_count": 85,
   "id": "4482e37f",
   "metadata": {},
   "outputs": [],
   "source": [
    "# En caso de las puertas de embarque solo nos faltan dos datos\n",
    "df.Embarked.isnull().sum()"
   ]
  },
  {
   "cell_type": "code",
   "execution_count": 86,
   "id": "6695d7b6",
   "metadata": {},
   "outputs": [],
   "source": [
    "df.Embarked.value_counts()"
   ]
  },
  {
   "cell_type": "code",
   "execution_count": 87,
   "id": "69f339bb",
   "metadata": {},
   "outputs": [],
   "source": [
    "# consideramos que la mayoría es un buen criterio asi que escogemos rellenar estos datos con 'S'\n",
    "df.Embarked = df.Embarked.fillna('S')\n",
    "df.Embarked.isnull().sum()"
   ]
  },
  {
   "cell_type": "markdown",
   "id": "7f66d9a3",
   "metadata": {},
   "source": [
    "Para limpiar el Df además borraremos las columnas que no son necesarias, ni aportan datos relevantes para la futura predicción entre ellas se encuentra:\n",
    "- nombre de los pasajeros \n",
    "- el nº de Ticket\n",
    "- la cabina (por falta de info)"
   ]
  },
  {
   "cell_type": "code",
   "execution_count": 88,
   "id": "4b9eab9a",
   "metadata": {
    "scrolled": true
   },
   "outputs": [],
   "source": [
    "df = df.drop(['Name', 'Ticket', 'Cabin', 'PassengerId'], axis = 1)\n",
    "df.head(2)"
   ]
  },
  {
   "cell_type": "markdown",
   "id": "2c20dd58",
   "metadata": {},
   "source": [
    "Datos Categóricos:\n",
    "- columnas con string 2 opciones - sexo\n",
    "- columnas string con 3 opciones - Embarked\n",
    "- Columnas con datos numéricos donde el numero no aporta un valor sino una categoría - Pclass. Donde 3 no vale más que 3 simplemente nos indica que era un pasajero de 3ª clase. "
   ]
  },
  {
   "cell_type": "code",
   "execution_count": 89,
   "id": "425b714f",
   "metadata": {},
   "outputs": [],
   "source": [
    "df.dtypes"
   ]
  },
  {
   "cell_type": "code",
   "execution_count": 91,
   "id": "02af6808",
   "metadata": {},
   "outputs": [],
   "source": [
    "# drop_first = True, para evitar la multicolinearidad (variables independientes correlacionadas)\n",
    "# puesto que Si eres hombre 1 no eres mujer 0, no necesitarás dos columnas porque sería información redundante\n",
    "\n",
    "df = pd.get_dummies(df, columns = ['Sex', 'Pclass' , \"Embarked\"], drop_first = True )\n",
    "df.head(2)"
   ]
  },
  {
   "cell_type": "code",
   "execution_count": null,
   "id": "4ebf0fa9",
   "metadata": {},
   "outputs": [],
   "source": []
  },
  {
   "cell_type": "code",
   "execution_count": null,
   "id": "bf8da5d6",
   "metadata": {},
   "outputs": [],
   "source": []
  },
  {
   "cell_type": "code",
   "execution_count": null,
   "id": "021df5bd",
   "metadata": {},
   "outputs": [],
   "source": []
  },
  {
   "cell_type": "code",
   "execution_count": null,
   "id": "bfd87971",
   "metadata": {},
   "outputs": [],
   "source": []
  },
  {
   "cell_type": "code",
   "execution_count": null,
   "id": "d7e0cc9f",
   "metadata": {},
   "outputs": [],
   "source": []
  },
  {
   "cell_type": "code",
   "execution_count": null,
   "id": "38378331",
   "metadata": {},
   "outputs": [],
   "source": []
  },
  {
   "cell_type": "code",
   "execution_count": null,
   "id": "ba796c7a",
   "metadata": {},
   "outputs": [],
   "source": []
  }
 ],
 "metadata": {
  "kernelspec": {
   "display_name": "Python 3 (ipykernel)",
   "language": "python",
   "name": "python3"
  },
  "language_info": {
   "codemirror_mode": {
    "name": "ipython",
    "version": 3
   },
   "file_extension": ".py",
   "mimetype": "text/x-python",
   "name": "python",
   "nbconvert_exporter": "python",
   "pygments_lexer": "ipython3",
   "version": "3.9.10"
  }
 },
 "nbformat": 4,
 "nbformat_minor": 5
}
